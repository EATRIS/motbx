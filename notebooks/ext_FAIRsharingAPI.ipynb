{
 "cells": [
  {
   "cell_type": "markdown",
   "id": "33130f65-0c5e-44eb-b00c-c56fa3f8e792",
   "metadata": {},
   "source": [
    "# Get resources from FAIRsharing\n",
    "\n",
    "See the [FAIRsharing REST API documentation](https://fairsharing.org/API_doc) on how to query FAIRsharing records."
   ]
  },
  {
   "cell_type": "code",
   "execution_count": null,
   "id": "c1c64a56-5656-4b8e-a290-4a756727e9a1",
   "metadata": {},
   "outputs": [],
   "source": [
    "import requests\n",
    "import json\n",
    "import getpass\n",
    "\n",
    "# FAIRsharing REST API\n",
    "base_url = \"https://api.fairsharing.org\"\n",
    "sign_in_url = f\"{base_url}/users/sign_in\""
   ]
  },
  {
   "cell_type": "code",
   "execution_count": null,
   "id": "a384dadf-20d8-48fe-96af-48114f44b01b",
   "metadata": {},
   "outputs": [],
   "source": [
    "headers = {\n",
    "  'Accept': 'application/json',\n",
    "  'Content-Type': 'application/json'\n",
    "}\n",
    "\n",
    "# Login to API using your FAIRsharing credentials\n",
    "response = requests.request(\n",
    "    \"POST\", sign_in_url, \n",
    "    headers = headers, data = json.dumps(\n",
    "        {\"user\": {\"login\": getpass.getpass(prompt = \"l\"), \n",
    "                  \"password\": getpass.getpass(prompt = \"p\")}}))\n",
    "\n",
    "# Get the JSON Web Token (JWT) from response to use in the next part\n",
    "jwt = response.json()[\"jwt\"]"
   ]
  },
  {
   "cell_type": "code",
   "execution_count": null,
   "id": "1366f674-1bf1-4325-aa1c-4af197d54ca9",
   "metadata": {},
   "outputs": [],
   "source": [
    "# example from https://fairsharing.org/API_doc\n",
    "# get one record\n",
    "url = f\"{base_url}/fairsharing_records/1\"\n",
    "\n",
    "headers = {\n",
    "  'Accept': 'application/json',\n",
    "  'Content-Type': 'application/json',\n",
    "  'Authorization': f\"Bearer {jwt}\"\n",
    "}\n",
    "\n",
    "response = requests.request(\"GET\", url, headers = headers)\n",
    "\n",
    "print(response.text)"
   ]
  },
  {
   "cell_type": "code",
   "execution_count": null,
   "id": "9f340643-b870-4476-9d51-2fe3e0ad5823",
   "metadata": {},
   "outputs": [],
   "source": [
    "url = f\"{base_url}/organisation_types\"\n",
    "response = requests.request(\"GET\", url, headers = headers)\n",
    "print(response.text)"
   ]
  },
  {
   "cell_type": "code",
   "execution_count": null,
   "id": "815805dd-9011-4e13-a9a1-1714a0833e77",
   "metadata": {},
   "outputs": [],
   "source": [
    "# search records \n",
    "url = f\"{base_url}/search/fairsharing_records\"\n",
    "params = {\n",
    "    \"q\": \"imaging\",\n",
    "    #\"status\": , # uncertain, deprecated, in_development, ready\n",
    "    \"fairsharing_registry\": \"database\", # database, standard, policy, collection\n",
    "    #\"record_type\": ,\n",
    "    #\"countries\": ,\n",
    "    #\"subjects\": ,\n",
    "    #\"domains\": , \n",
    "    #\"taxonomies\": ,\n",
    "    #\"user_defined_tags\": ,\n",
    "    \"is_recommended\": True,\n",
    "    \"is_approved\": True,\n",
    "    \"is_maintained\": True}\n",
    "response = requests.request(\"POST\", url, headers = headers, params = params)\n",
    "len(response.json()[\"data\"])"
   ]
  }
 ],
 "metadata": {
  "kernelspec": {
   "display_name": "Python 3.11 (motbxtools)",
   "language": "python",
   "name": "motbxtools"
  },
  "language_info": {
   "codemirror_mode": {
    "name": "ipython",
    "version": 3
   },
   "file_extension": ".py",
   "mimetype": "text/x-python",
   "name": "python",
   "nbconvert_exporter": "python",
   "pygments_lexer": "ipython3",
   "version": "3.11.4"
  }
 },
 "nbformat": 4,
 "nbformat_minor": 5
}
