{
 "cells": [
  {
   "cell_type": "markdown",
   "id": "33130f65-0c5e-44eb-b00c-c56fa3f8e792",
   "metadata": {},
   "source": [
    "# Get resources from bio.tools\n",
    "\n",
    "See the [bio.tools API reference](https://biotools.readthedocs.io/en/latest/api_reference.html) and [API usage guide](https://biotools.readthedocs.io/en/latest/api_usage_guide.html) on how to query [bio.tools](https://bio.tools/) records.\n",
    "\n",
    "JSON schema for bio.tools: https://github.com/bio-tools/biotoolsSchema/blob/master/jsonschema/biotoolsj.json"
   ]
  },
  {
   "cell_type": "code",
   "execution_count": null,
   "id": "c1c64a56-5656-4b8e-a290-4a756727e9a1",
   "metadata": {},
   "outputs": [],
   "source": [
    "import requests\n",
    "import json\n",
    "import getpass\n",
    "\n",
    "# bio.tools REST API\n",
    "base_url = \"https://bio.tools/api\"\n",
    "sign_in_url = f\"{base_url}/rest-auth/login/\" # for submitting resources"
   ]
  },
  {
   "cell_type": "code",
   "execution_count": null,
   "id": "edc67d74-cd49-4b68-bf5a-a8d2e2954baf",
   "metadata": {},
   "outputs": [],
   "source": [
    "import pprint\n",
    "pp = pprint.PrettyPrinter(indent = 2)"
   ]
  },
  {
   "cell_type": "code",
   "execution_count": null,
   "id": "d3b23b96-f295-468b-9200-f5c92b477233",
   "metadata": {},
   "outputs": [],
   "source": [
    "headers = {\n",
    "  'Accept': 'application/json',\n",
    "  'Content-Type': 'application/json'\n",
    "}\n",
    "\n",
    "url = f\"{base_url}/tool/\""
   ]
  },
  {
   "cell_type": "code",
   "execution_count": null,
   "id": "18d90391-204d-4620-bbd6-09516ff09b39",
   "metadata": {},
   "outputs": [],
   "source": [
    "# search for rources from BBMRI collection\n",
    "params = {\n",
    "    #\"q\": [\"multi-omics\"],\n",
    "    \"collectionID\": \"BBMRI\" # \"Rare Disease\", \"RD-connect\"\n",
    "}\n",
    "response = requests.request(\"GET\", url, headers = headers, params = params)\n",
    "\n",
    "# structure of result\n",
    "print(response.json().keys())\n",
    "\n",
    "# number of results\n",
    "print(response.json()[\"count\"])\n",
    "\n",
    "# print 1st result\n",
    "pp.pprint(response.json()[\"list\"][0])"
   ]
  },
  {
   "cell_type": "code",
   "execution_count": null,
   "id": "a7db7e5b-07ee-4c2b-a393-f7e2afba1517",
   "metadata": {},
   "outputs": [],
   "source": [
    "# resources from rare disease collection\n",
    "params = {\n",
    "    \"collectionID\": \"Rare Disease\"\n",
    "}\n",
    "response = requests.request(\"GET\", url, headers = headers, params = params)\n",
    "print(response.json()[\"count\"])"
   ]
  },
  {
   "cell_type": "code",
   "execution_count": null,
   "id": "db30a0f9-cf9d-4d80-91cd-af1b45b147bc",
   "metadata": {},
   "outputs": [],
   "source": [
    "# use a general search term \n",
    "params = {\n",
    "    \"q\": \"translational medicine\"\n",
    "}\n",
    "response = requests.request(\"GET\", url, headers = headers, params = params)\n",
    "print(response.json()[\"count\"])"
   ]
  },
  {
   "cell_type": "code",
   "execution_count": null,
   "id": "0811614b-5d0d-4260-a2ee-dfaa81f5fafd",
   "metadata": {},
   "outputs": [],
   "source": [
    "# query collection EUCAIM, open access only\n",
    "params = {\n",
    "    \"accessibility\": \"Open access\",\n",
    "    \"collectionID\": \"EUCAIM\"\n",
    "}\n",
    "response = requests.request(\"GET\", url, headers = headers, params = params)\n",
    "print(response.json()[\"count\"])"
   ]
  },
  {
   "cell_type": "code",
   "execution_count": null,
   "id": "586afb68-c554-4d93-9fcf-814d620f09a9",
   "metadata": {},
   "outputs": [],
   "source": [
    "# summarise previous results - record name and license\n",
    "print(response.json()[\"list\"][0].keys())\n",
    "pp.pprint([(record[\"name\"], record[\"license\"]) for record in response.json()[\"list\"]])"
   ]
  }
 ],
 "metadata": {
  "kernelspec": {
   "display_name": "Python 3.11 (motbxtools)",
   "language": "python",
   "name": "motbxtools"
  },
  "language_info": {
   "codemirror_mode": {
    "name": "ipython",
    "version": 3
   },
   "file_extension": ".py",
   "mimetype": "text/x-python",
   "name": "python",
   "nbconvert_exporter": "python",
   "pygments_lexer": "ipython3",
   "version": "3.11.4"
  }
 },
 "nbformat": 4,
 "nbformat_minor": 5
}
