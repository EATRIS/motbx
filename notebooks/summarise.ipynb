{
 "cells": [
  {
   "cell_type": "markdown",
   "id": "831ae188-c669-4885-88ce-6f4ba7718be8",
   "metadata": {},
   "source": [
    "# Summarise MOTBX resources\n",
    "\n",
    "Convert MOTBX resources (YAML files) to CSV file."
   ]
  },
  {
   "cell_type": "code",
   "execution_count": 34,
   "id": "94f35a6e-6ad6-4801-b66f-496efc669f65",
   "metadata": {},
   "outputs": [],
   "source": [
    "from pathlib import Path\n",
    "import os\n",
    "import csv\n",
    "from motbxtools import motbxschema\n",
    "import yaml\n",
    "from collections import defaultdict as ddict\n",
    "import pprint\n",
    "pp = pprint.PrettyPrinter(indent = 2)\n",
    "\n",
    "CWD = Path.cwd()\n",
    "if CWD.name != \"notebooks\":\n",
    "    print(\"Make sure to run this notebook from the 'notebooks' directory.\")\n",
    "\n",
    "MOTBX_DIR = CWD.parent # home directory of this repository\n",
    "\n",
    "with open(MOTBX_DIR.joinpath(\"resources/MOTBX_version.yaml\"), \"r\") as f:\n",
    "    MOTBX_VERSION = yaml.safe_load(f)\n",
    "\n",
    "# path to directory where resources YAML file are saved\n",
    "RESOURCES_DIR = MOTBX_DIR.joinpath(\"resources/curated\")\n",
    "SUMMARY_DIR = MOTBX_DIR.joinpath(\"resources/summary\")\n",
    "if not os.path.exists(SUMMARY_DIR):\n",
    "    os.mkdir(SUMMARY_DIR)\n",
    "SUMMARY_CSV_LATEST = SUMMARY_DIR.joinpath(\n",
    "    f\"MOTBX_{MOTBX_VERSION['latest']}.csv\")\n",
    "SUMMARY_CSV_PREVIOUS = SUMMARY_DIR.joinpath(\n",
    "    f\"MOTBX_{MOTBX_VERSION['previous'][0]}.csv\")\n",
    "CHANGELOG_CSV = SUMMARY_DIR.joinpath(\n",
    "    f\"changelog_{MOTBX_VERSION['latest']}.csv\")\n",
    "\n",
    "# path to JSON SCHEMA file defining structure of MOTBX resources\n",
    "SCHEMA_JSON = MOTBX_DIR.joinpath(\"schema/motbxschema.json\")\n",
    "\n",
    "TEST_RESOURCES_DIR = MOTBX_DIR.joinpath(\"tests/resources_pass\")\n",
    "TEST_SUMMARY_CSV = MOTBX_DIR.joinpath(\"tests/resources.csv\")"
   ]
  },
  {
   "cell_type": "code",
   "execution_count": 35,
   "id": "5a8e82c5-2fc0-4e13-bf4e-dd7d5e58181b",
   "metadata": {},
   "outputs": [],
   "source": [
    "# load JSON schema from file\n",
    "schema = motbxschema.MotbxSchema(SCHEMA_JSON)\n",
    "\n",
    "# print schema formatted as JSON\n",
    "# print(json.dumps(schema.schema, indent = 2))"
   ]
  },
  {
   "cell_type": "code",
   "execution_count": 36,
   "id": "93013f06-ff43-4643-b860-585e0d0026fc",
   "metadata": {},
   "outputs": [
    {
     "name": "stdout",
     "output_type": "stream",
     "text": [
      "['resourceID', 'resourceCategory', 'resourceSubcategory', 'resourceTitle', 'resourceDescription', 'resourceUrl', 'resourceTags', 'resourceKeywords']\n"
     ]
    }
   ],
   "source": [
    "# define CSV column names\n",
    "fieldnames = list(schema.schema[\"properties\"].keys())\n",
    "print(fieldnames)"
   ]
  },
  {
   "cell_type": "markdown",
   "id": "2b50c1c5",
   "metadata": {},
   "source": [
    "Create YAML file summary for test resources."
   ]
  },
  {
   "cell_type": "code",
   "execution_count": 37,
   "id": "c6a888de-4495-4a5a-b191-c5c7fa3f8685",
   "metadata": {},
   "outputs": [
    {
     "name": "stdout",
     "output_type": "stream",
     "text": [
      "test1.yaml\n"
     ]
    },
    {
     "name": "stdout",
     "output_type": "stream",
     "text": [
      "test2.yaml\n"
     ]
    }
   ],
   "source": [
    "# open CSV file\n",
    "with open(TEST_SUMMARY_CSV, \"w\", newline = \"\", encoding = \"utf-8\") as csvfile:\n",
    "    writer = csv.DictWriter(csvfile, fieldnames = fieldnames)\n",
    "    writer.writeheader()\n",
    "\n",
    "    # iterate through resources\n",
    "    for root, dirs, files in os.walk(TEST_RESOURCES_DIR):\n",
    "        for name in files:\n",
    "            if not name.endswith(\".yaml\"):\n",
    "                continue\n",
    "            print(name)\n",
    "\n",
    "            # load test resource and validate\n",
    "            resource = motbxschema.MotbxResource(os.path.join(root, name))\n",
    "            resource.validate(schema)\n",
    "\n",
    "            # write to CSV file\n",
    "            row = resource.flatten(fieldnames)\n",
    "            #pp.pprint(row)\n",
    "            writer.writerow(row)"
   ]
  },
  {
   "cell_type": "code",
   "execution_count": 38,
   "metadata": {},
   "outputs": [
    {
     "name": "stdout",
     "output_type": "stream",
     "text": [
      "ID0081\r"
     ]
    }
   ],
   "source": [
    "# load summary CSV from previous version\n",
    "previous_version = {}\n",
    "with open(SUMMARY_CSV_PREVIOUS, \"r\") as csvfile:\n",
    "    reader = csv.DictReader(csvfile)\n",
    "    for row in reader:\n",
    "        print(row[\"resourceID\"], end=\"\\r\")\n",
    "        previous_version[row[\"resourceID\"]] = row"
   ]
  },
  {
   "cell_type": "markdown",
   "id": "0890640e",
   "metadata": {},
   "source": [
    "Create summary for curated resources"
   ]
  },
  {
   "cell_type": "code",
   "execution_count": 40,
   "id": "be099a71",
   "metadata": {},
   "outputs": [
    {
     "name": "stdout",
     "output_type": "stream",
     "text": [
      "ID0081.yaml\r"
     ]
    }
   ],
   "source": [
    "# open CSV file\n",
    "with (open(SUMMARY_CSV_LATEST, \"w\", newline = \"\", encoding = \"utf-8\")\n",
    "       as csvfile,\n",
    "       open(CHANGELOG_CSV, \"w\", newline = \"\", encoding = \"utf-8\")\n",
    "       as changelogfile):\n",
    "    writer = csv.DictWriter(csvfile, fieldnames = fieldnames)\n",
    "    writer.writeheader()\n",
    "    changelog = csv.DictWriter(changelogfile, fieldnames = [\n",
    "        \"resourceID\", \"New resource (yes/no)\", \"Updated field(s)\"])\n",
    "    changelog.writeheader()\n",
    "\n",
    "    # iterate through resources\n",
    "    for root, dirs, files in os.walk(RESOURCES_DIR):\n",
    "        for name in files:\n",
    "            if not name.endswith(\".yaml\"):\n",
    "                continue\n",
    "            print(name, end=\"\\r\")\n",
    "\n",
    "            # load test resource and validate\n",
    "            resource = motbxschema.MotbxResource(os.path.join(root, name))\n",
    "            #resource.validate(schema) don't validate in first version\n",
    "\n",
    "            # write to CSV file\n",
    "            row = resource.flatten(fieldnames)\n",
    "            new_resource = False\n",
    "            try:\n",
    "                row_old = previous_version[row[\"resourceID\"]]\n",
    "            except KeyError:  # resource is new\n",
    "                row_old = {}\n",
    "                new_resource = True\n",
    "            changed_fields = dict(set(row.items()) ^ set(row_old.items())).keys()\n",
    "            writer.writerow(row)\n",
    "            changelog.writerow({\n",
    "                \"resourceID\": row[\"resourceID\"],\n",
    "                \"New resource (yes/no)\": \"yes\" if new_resource else \"no\",\n",
    "                \"Updated field(s)\": \", \".join(changed_fields)\n",
    "            })\n"
   ]
  }
 ],
 "metadata": {
  "kernelspec": {
   "display_name": "Python 3.11 (motbxtools)",
   "language": "python",
   "name": "motbxtools"
  },
  "language_info": {
   "codemirror_mode": {
    "name": "ipython",
    "version": 3
   },
   "file_extension": ".py",
   "mimetype": "text/x-python",
   "name": "python",
   "nbconvert_exporter": "python",
   "pygments_lexer": "ipython3",
   "version": "3.11.4"
  }
 },
 "nbformat": 4,
 "nbformat_minor": 5
}
