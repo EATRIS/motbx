{
 "cells": [
  {
   "cell_type": "markdown",
   "id": "831ae188-c669-4885-88ce-6f4ba7718be8",
   "metadata": {},
   "source": [
    "# Summarise MOTBX resources\n",
    "\n",
    "Convert MOTBX resources (YAML files) to CSV file."
   ]
  },
  {
   "cell_type": "code",
   "execution_count": 1,
   "id": "94f35a6e-6ad6-4801-b66f-496efc669f65",
   "metadata": {},
   "outputs": [],
   "source": [
    "import os\n",
    "import yaml\n",
    "from pathlib import Path\n",
    "from motbxtools import motbxschema\n",
    "import pprint\n",
    "pp = pprint.PrettyPrinter(indent = 2)\n",
    "\n",
    "CWD = Path.cwd()\n",
    "if CWD.name != \"notebooks\":\n",
    "    print(\"Make sure to run this notebook from the 'notebooks' directory.\")\n",
    "\n",
    "MOTBX_DIR = CWD.parent # home directory of this repository\n",
    "\n",
    "with open(MOTBX_DIR.joinpath(\"resources/MOTBX_version.yaml\"), \"r\") as f:\n",
    "    MOTBX_VERSION = yaml.safe_load(f)\n",
    "\n",
    "# path to directory where resources YAML file are saved\n",
    "RESOURCES_DIR = MOTBX_DIR.joinpath(\"resources/curated\")\n",
    "SUMMARY_DIR = MOTBX_DIR.joinpath(\"resources/summary\")\n",
    "if not os.path.exists(SUMMARY_DIR):\n",
    "    os.mkdir(SUMMARY_DIR)\n",
    "SUMMARY_CSV_LATEST = SUMMARY_DIR.joinpath(\n",
    "    f\"MOTBX_{MOTBX_VERSION['latest']}.csv\")\n",
    "SUMMARY_CSV_LATEST_EXCL_INVALID = SUMMARY_DIR.joinpath(\n",
    "    f\"MOTBX_{MOTBX_VERSION['latest']}_excl_invalid.csv\")\n",
    "SUMMARY_CSV_PREVIOUS = SUMMARY_DIR.joinpath(\n",
    "    f\"MOTBX_{MOTBX_VERSION['previous'][0]}.csv\")\n",
    "CHANGELOG_CSV = SUMMARY_DIR.joinpath(\n",
    "    f\"changelog_{MOTBX_VERSION['latest']}.csv\")\n",
    "# path to validation report\n",
    "# - file that contains info about failed validations of MOTBX resources\n",
    "VALIDATION_REPORT = SUMMARY_DIR.joinpath(\n",
    "    f\"validation_report_{MOTBX_VERSION['latest']}.txt\")\n",
    "\n",
    "# path to JSON SCHEMA file defining structure of MOTBX resources\n",
    "SCHEMA_JSON = MOTBX_DIR.joinpath(\"schema/motbxschema.json\")\n",
    "\n",
    "TEST_RESOURCES_DIR = MOTBX_DIR.joinpath(\"tests/resources_pass\")\n",
    "TEST_SUMMARY_CSV = MOTBX_DIR.joinpath(\"tests/resources.csv\")"
   ]
  },
  {
   "cell_type": "markdown",
   "id": "2b50c1c5",
   "metadata": {},
   "source": [
    "Create YAML file summary for test resources."
   ]
  },
  {
   "cell_type": "code",
   "execution_count": 2,
   "id": "c6a888de-4495-4a5a-b191-c5c7fa3f8685",
   "metadata": {},
   "outputs": [
    {
     "name": "stdout",
     "output_type": "stream",
     "text": [
      "Loading MOTBX resources | test2.yaml\r"
     ]
    }
   ],
   "source": [
    "test_collection = motbxschema.MotbxCollection(TEST_RESOURCES_DIR, SCHEMA_JSON)\n",
    "test_collection.summarise(TEST_SUMMARY_CSV, validate=True)"
   ]
  },
  {
   "cell_type": "markdown",
   "id": "0890640e",
   "metadata": {},
   "source": [
    "Create summary for curated resources"
   ]
  },
  {
   "cell_type": "code",
   "execution_count": 2,
   "metadata": {},
   "outputs": [],
   "source": [
    "motbx_collection = motbxschema.MotbxCollection(RESOURCES_DIR, SCHEMA_JSON)"
   ]
  },
  {
   "cell_type": "code",
   "execution_count": null,
   "metadata": {},
   "outputs": [],
   "source": [
    "motbx_collection.summarise(SUMMARY_CSV_LATEST,\n",
    "                           validate=True, exclude_invalid=False,\n",
    "                           old_summary_csv_path=SUMMARY_CSV_PREVIOUS,\n",
    "                           changelog_path=CHANGELOG_CSV,\n",
    "                           validationlog_path=VALIDATION_REPORT)"
   ]
  },
  {
   "cell_type": "code",
   "execution_count": 3,
   "metadata": {},
   "outputs": [
    {
     "name": "stdout",
     "output_type": "stream",
     "text": [
      "HTTPSConnectionPool(host='chinese-quartet.org', port=443): Max retries exceeded with url: / (Caused by SSLError(SSLCertVerificationError(1, '[SSL: CERTIFICATE_VERIFY_FAILED] certificate verify failed: unable to get local issuer certificate (_ssl.c:1002)')))\n",
      "Resource: ID0010.yaml\n",
      "URL: https://chinese-quartet.org/#/dashboard\n",
      "-------------------------------------------------------------------------------\n",
      "Loading MOTBX resources | ID0024.yaml\n",
      "Resource: ID0024.yaml\n",
      "URL: SampleAnalysisProtocol/UU_MethSeq/MOTBX_InternalProtocol_MethylSeq_20230706/pdf\n",
      "-------------------------------------------------------------------------------\n",
      "Loading MOTBX resources | ID0032.yaml\n",
      "Resource: ID0032.yaml\n",
      "URL: SampleAnalysisProtocols/IRYCIS_qRT_PCR/MOTBX_InternalProtocol_PlasmaPreparation_20230630.pdf\n",
      "-------------------------------------------------------------------------------\n",
      "Loading MOTBX resources | ID0033.yaml\n",
      "Resource: ID0033.yaml\n",
      "URL: SampleAnalysisProtocolsIRYCIS_qRT_PCR/MOTBX_InternalProtocol_SerumPreparation_20230630.pdf\n",
      "-------------------------------------------------------------------------------\n",
      "Loading MOTBX resources | ID0035.yaml\n",
      "Resource: ID0035.yaml\n",
      "URL: SampleAnalysisProtocols/FIMM_RNAseq/MOTBX_InternalProtocol_mRNASeq_20230626.pdf\n",
      "-------------------------------------------------------------------------------\n",
      "Loading MOTBX resources | ID0036.yaml\n",
      "Resource: ID0036.yaml\n",
      "URL: SampleAnalysisProtocols/FIMM_miRNAseq/MOTBX_InternalProtcol_miRNASeq_20230626.pdf\n",
      "-------------------------------------------------------------------------------\n",
      "Loading MOTBX resources | ID0037.yaml\n",
      "Resource: ID0037.yaml\n",
      "URL: SampleAnalysisProtcols/IRYCIS_qRT_PCR/MOTBX_InternalProtocol_Serum_Plasma_miRNA_extraction_20230630.pdf\n",
      "-------------------------------------------------------------------------------\n",
      "Loading MOTBX resources | ID0038.yaml\n",
      "Resource: ID0038.yaml\n",
      "URL: SampleAnalysisProtocols/IRYCIS_qRT_PCR/MOTBX_InternalProtocol_Panels_RT_20230630.pdf\n",
      "-------------------------------------------------------------------------------\n",
      "Loading MOTBX resources | ID0039.yaml\n",
      "Resource: ID0039.yaml\n",
      "URL: SampleAnalysisProtocols/IRYCIS_qRT_PCR/MOTBX_InternalProtocol_Panels_qPCR_20230630.pdf\n",
      "-------------------------------------------------------------------------------\n",
      "Loading MOTBX resources | ID0052.yaml\n",
      "Resource: ID0052.yaml\n",
      "URL: SampleAnalysisProtocols/IMTM_Proteomics/MOTBX_InternalProtocol_SamplePreparation_Plasma Analysis_20230627.pdf\n",
      "-------------------------------------------------------------------------------\n",
      "Loading MOTBX resources | ID0053.yaml\n",
      "Resource: ID0053.yaml\n",
      "URL: SampleAnalysisProtocols/IMTM_Proteomics/MOTBX_InternalProtocol_LCMS_HCD_OT_PlasmaAnalysis_20230627.pdf\n",
      "-------------------------------------------------------------------------------\n",
      "Loading MOTBX resources | ID0054.yaml\n",
      "Resource: ID0054.yaml\n",
      "URL: SampleAnalysisProtocols/IMTM_Proteomics/MOTBX_InternalProtocol_ProteinPeptideSearch_PlasmaAnalysis_20230627.pdf\n",
      "-------------------------------------------------------------------------------\n",
      "Loading MOTBX resources | ID0061.yaml\n",
      "Resource: ID0061.yaml\n",
      "URL: SampleAnalysisProtocols/RUMC_metabolomics_targeted/MOTBX_InternalProtocol_Appendix4_TargetedMetabolomics.pdf\n",
      "-------------------------------------------------------------------------------\n",
      "Loading MOTBX resources | ID0062.yaml\n",
      "Resource: ID0062.yaml\n",
      "URL: SampleAnalysisProtocols/RUMC_metabolomics_targeted/MOTBX_InternalProtocol_NextGeneration_MetabolomicsScreening.pdf\n",
      "-------------------------------------------------------------------------------\n",
      "Loading MOTBX resources | ID0083.yaml\r"
     ]
    }
   ],
   "source": [
    "motbx_collection.summarise(SUMMARY_CSV_LATEST_EXCL_INVALID,\n",
    "                           validate=True, exclude_invalid=True,\n",
    "                           old_summary_csv_path=SUMMARY_CSV_PREVIOUS)"
   ]
  },
  {
   "cell_type": "code",
   "execution_count": 6,
   "metadata": {},
   "outputs": [
    {
     "name": "stdout",
     "output_type": "stream",
     "text": [
      "32 tags:\n",
      "DNA, EATRIS-Plus project, ISO standard, PCR, array\n",
      "biological fluid, biomarker, data standard, database, epigenomics\n",
      "genomics, guideline, internal quality control (IQC), mRNA, mass spectrometry\n",
      "metabolomics, metadata standard, miRNA, minimum information standard, multi-omics\n",
      "phenotypic data, preclinical study, proficiency testing, proteomics, protocol\n",
      "reference data set, reference material, registry, scientific publication, sequencing\n",
      "software application, transcriptomics\n",
      "\n",
      "categories and subcategories:\n",
      "Data analysis\t\tComputing platforms\n",
      "Data analysis\t\tSoftware applications and workflows\n",
      "Data management and stewardship\t\tData and metadata standards\n",
      "Data management and stewardship\t\tDatabases and catalogues\n",
      "Data management and stewardship\t\tGuidelines and best practices\n",
      "Epigenomics\t\tGuidelines and best practices\n",
      "Epigenomics\t\tLaboratory protocols and methods\n",
      "Genomics\t\tGuidelines and best practices\n",
      "Metabolomics\t\tGuidelines and best practices\n",
      "Metabolomics\t\tLaboratory protocols and methods\n",
      "Metabolomics\t\tTranslational research use case\n",
      "Proteomics\t\tGuidelines and best practices\n",
      "Proteomics\t\tLaboratory protocols and methods\n",
      "Quality control and assessment\t\tGuidelines and best practices\n",
      "Quality control and assessment\t\tProficiency testing and external quality assessment\n",
      "Quality control and assessment\t\tQuality certification\n",
      "Quality control and assessment\t\tReference materials for quality control\n",
      "Transcriptomics\t\tGuidelines and best practices\n",
      "Transcriptomics\t\tLaboratory protocols and methods\n",
      "Transcriptomics\t\tTranslational research use case\n"
     ]
    }
   ],
   "source": [
    "info = motbx_collection.get_info()\n",
    "tags = sorted(info[\"resourceTags\"])\n",
    "print(len(tags), \"tags:\")\n",
    "for idx in range(0, len(tags), 5):\n",
    "    try:\n",
    "        print(\", \".join(tags[idx:idx+5]))\n",
    "    except:\n",
    "        print(\", \".join(tags[idx:]))\n",
    "\n",
    "print()\n",
    "print(\"categories and subcategories:\")\n",
    "for t in sorted(info[(\"resourceCategory\", \"resourceSubcategory\")]):\n",
    "    print(\"\\t\\t\".join(t))"
   ]
  }
 ],
 "metadata": {
  "kernelspec": {
   "display_name": "Python 3.11 (motbxtools)",
   "language": "python",
   "name": "motbxtools"
  },
  "language_info": {
   "codemirror_mode": {
    "name": "ipython",
    "version": 3
   },
   "file_extension": ".py",
   "mimetype": "text/x-python",
   "name": "python",
   "nbconvert_exporter": "python",
   "pygments_lexer": "ipython3",
   "version": "3.11.4"
  }
 },
 "nbformat": 4,
 "nbformat_minor": 5
}
