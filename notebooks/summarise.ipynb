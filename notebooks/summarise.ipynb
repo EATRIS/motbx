{
 "cells": [
  {
   "cell_type": "markdown",
   "id": "831ae188-c669-4885-88ce-6f4ba7718be8",
   "metadata": {},
   "source": [
    "# Summarise MOTBX resources\n",
    "\n",
    "Convert MOTBX resources (YAML files) to CSV file."
   ]
  },
  {
   "cell_type": "code",
   "execution_count": null,
   "id": "94f35a6e-6ad6-4801-b66f-496efc669f65",
   "metadata": {},
   "outputs": [],
   "source": [
    "import os\n",
    "import sys\n",
    "import csv\n",
    "module_path = os.path.abspath(os.path.join(\"../src\"))\n",
    "if module_path not in sys.path:\n",
    "    sys.path.append(module_path)\n",
    "from motbxtools import motbxschema\n",
    "import json \n",
    "import pprint\n",
    "pp = pprint.PrettyPrinter(indent = 2)\n",
    "\n",
    "\n",
    "home_dir = \"../\"\n",
    "schema_path = os.path.join(home_dir, \"schema\", \"motbxschema.json\")\n",
    "resource_dir = os.path.join(home_dir, \"resources/curated\")\n",
    "\n",
    "test_resource_dir = os.path.join(home_dir, \"tests/resources_pass\")\n",
    "summary_csv = os.path.join(home_dir, \"tests\", \"resources.csv\")"
   ]
  },
  {
   "cell_type": "code",
   "execution_count": null,
   "id": "5a8e82c5-2fc0-4e13-bf4e-dd7d5e58181b",
   "metadata": {},
   "outputs": [],
   "source": [
    "# load JSON schema from file\n",
    "schema = motbxschema.MotbxSchema(schema_path)\n",
    "\n",
    "# print schema formatted as JSON\n",
    "print(json.dumps(schema.schema, indent = 2))"
   ]
  },
  {
   "cell_type": "code",
   "execution_count": null,
   "id": "c56b923e-ab9e-4ea2-95fb-5b3c0f273437",
   "metadata": {},
   "outputs": [],
   "source": [
    "# explore schema\n",
    "print(schema.schema[\"properties\"].keys())\n",
    "print(schema.schema[\"properties\"][\"resource\"][\"properties\"].keys())\n",
    "print(schema.schema[\"properties\"][\"resourceMetadata\"][\"properties\"].keys())"
   ]
  },
  {
   "cell_type": "code",
   "execution_count": null,
   "id": "93013f06-ff43-4643-b860-585e0d0026fc",
   "metadata": {},
   "outputs": [],
   "source": [
    "# define CSV column names\n",
    "fieldnames = [\"resourceID\"] + list(schema.schema[\"properties\"][\"resource\"][\"properties\"].keys())\n",
    "print(fieldnames)"
   ]
  },
  {
   "cell_type": "code",
   "execution_count": null,
   "id": "c6a888de-4495-4a5a-b191-c5c7fa3f8685",
   "metadata": {},
   "outputs": [],
   "source": [
    "# open CSV file\n",
    "with open(summary_csv, \"w\", newline = \"\", encoding = \"utf-8\") as csvfile:\n",
    "    writer = csv.DictWriter(csvfile, fieldnames = fieldnames)\n",
    "    writer.writeheader()\n",
    "    \n",
    "    # iterate through resources\n",
    "    for root, dirs, files in os.walk(test_resource_dir):\n",
    "        for name in files: \n",
    "            if not name.endswith(\".yaml\"):\n",
    "                continue\n",
    "            print(name)\n",
    "            \n",
    "            # load test resource and validate\n",
    "            resource = motbxschema.MotbxResource(os.path.join(root, name))\n",
    "            resource.validate(schema)\n",
    "\n",
    "            # write to CSV file\n",
    "            row = resource.flatten(fieldnames) \n",
    "            pp.pprint(row)\n",
    "            writer.writerow(row)"
   ]
  }
 ],
 "metadata": {
  "kernelspec": {
   "display_name": "Python 3.11 (motbxtools)",
   "language": "python",
   "name": "motbxtools"
  },
  "language_info": {
   "codemirror_mode": {
    "name": "ipython",
    "version": 3
   },
   "file_extension": ".py",
   "mimetype": "text/x-python",
   "name": "python",
   "nbconvert_exporter": "python",
   "pygments_lexer": "ipython3",
   "version": "3.11.4"
  }
 },
 "nbformat": 4,
 "nbformat_minor": 5
}
