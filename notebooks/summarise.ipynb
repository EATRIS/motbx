{
 "cells": [
  {
   "cell_type": "markdown",
   "id": "831ae188-c669-4885-88ce-6f4ba7718be8",
   "metadata": {},
   "source": [
    "# Summarise MOTBX resources\n",
    "\n",
    "Convert MOTBX resources (YAML files) to CSV file."
   ]
  },
  {
   "cell_type": "code",
   "execution_count": 49,
   "id": "94f35a6e-6ad6-4801-b66f-496efc669f65",
   "metadata": {},
   "outputs": [],
   "source": [
    "import os\n",
    "import json\n",
    "import yaml\n",
    "import jsonschema\n",
    "import csv\n",
    "\n",
    "home_dir = \"../\"\n",
    "resource_dir = os.path.join(home_dir, \"resources/curated\")\n",
    "schema_path = os.path.join(home_dir, \"schema\", \"motbxschema.json\")\n",
    "test_dir = os.path.join(home_dir, \"test\")\n",
    "summary_csv = os.path.join(home_dir, \"test\", \"resources.csv\")"
   ]
  },
  {
   "cell_type": "code",
   "execution_count": 8,
   "id": "5a8e82c5-2fc0-4e13-bf4e-dd7d5e58181b",
   "metadata": {},
   "outputs": [],
   "source": [
    "# load JSON schema from file\n",
    "schema = json.load(open(schema_path, \"r\"))"
   ]
  },
  {
   "cell_type": "code",
   "execution_count": 12,
   "id": "c56b923e-ab9e-4ea2-95fb-5b3c0f273437",
   "metadata": {},
   "outputs": [
    {
     "name": "stdout",
     "output_type": "stream",
     "text": [
      "dict_keys(['resourceID', 'resource', 'resourceMetadata'])\n",
      "dict_keys(['resourceCategory', 'resourceSubcategory', 'resourceTitle', 'resourceDescription', 'resourceUrl', 'resourceTags'])\n",
      "dict_keys(['resourceStatus', 'resourceCurator', 'last_modified', 'resourceLog'])\n"
     ]
    }
   ],
   "source": [
    "# explore schema\n",
    "print(schema[\"properties\"].keys())\n",
    "print(schema[\"properties\"][\"resource\"][\"properties\"].keys())\n",
    "print(schema[\"properties\"][\"resourceMetadata\"][\"properties\"].keys())"
   ]
  },
  {
   "cell_type": "code",
   "execution_count": 14,
   "id": "93013f06-ff43-4643-b860-585e0d0026fc",
   "metadata": {},
   "outputs": [
    {
     "name": "stdout",
     "output_type": "stream",
     "text": [
      "['resourceID', 'resourceCategory', 'resourceSubcategory', 'resourceTitle', 'resourceDescription', 'resourceUrl', 'resourceTags']\n"
     ]
    }
   ],
   "source": [
    "# define CSV column names\n",
    "fieldnames = [\"resourceID\"] + list(schema[\"properties\"][\"resource\"][\"properties\"].keys())\n",
    "print(fieldnames)"
   ]
  },
  {
   "cell_type": "code",
   "execution_count": 47,
   "id": "4b8b35f4-3566-436b-a754-945b19282826",
   "metadata": {},
   "outputs": [],
   "source": [
    "def flatten_resource(resource, fieldnames, row = {}):\n",
    "    \"\"\"Iterate through nested dictionary (from JSON)\n",
    "    and return dictionary with single level for writing CSV.\n",
    "    Keep only keys present in fieldnames.\n",
    "    \"\"\"\n",
    "    for k, v in resource.items():\n",
    "        if type(v) == type(str()) and k in fieldnames:\n",
    "            row[k] = v\n",
    "        elif type(v) == type(list()) and k in fieldnames:\n",
    "            row[k] = \", \".join(v)\n",
    "        elif type(v) == type(dict()):\n",
    "            flatten_resource(v, fieldnames, row = row)\n",
    "    return(row)"
   ]
  },
  {
   "cell_type": "code",
   "execution_count": 53,
   "id": "c6a888de-4495-4a5a-b191-c5c7fa3f8685",
   "metadata": {},
   "outputs": [
    {
     "name": "stdout",
     "output_type": "stream",
     "text": [
      "../test\\resource.yaml\n"
     ]
    }
   ],
   "source": [
    "# open CSV file\n",
    "with open(summary_csv, \"w\", newline = \"\", encoding = \"utf-8\") as csvfile:\n",
    "    writer = csv.DictWriter(csvfile, fieldnames = fieldnames)\n",
    "    writer.writeheader()\n",
    "    \n",
    "    # iterate through resources\n",
    "    for root, dirs, files in os.walk(test_dir):\n",
    "        for name in files: \n",
    "            if not name.endswith(\".yaml\"):\n",
    "                continue\n",
    "            print(name)\n",
    "            \n",
    "            # load test resource and validate\n",
    "            with open(os.path.join(root, name), \"r\") as fp:\n",
    "                resource = yaml.safe_load(fp)\n",
    "                jsonschema.validate(resource, schema, format_checker = jsonschema.FormatChecker())\n",
    "                \n",
    "                # write to CSV file\n",
    "                row = flatten_resource(resource, fieldnames)\n",
    "                writer.writerow(row)"
   ]
  }
 ],
 "metadata": {
  "kernelspec": {
   "display_name": "Python 3.11 (motbxtools)",
   "language": "python",
   "name": "motbxtools"
  },
  "language_info": {
   "codemirror_mode": {
    "name": "ipython",
    "version": 3
   },
   "file_extension": ".py",
   "mimetype": "text/x-python",
   "name": "python",
   "nbconvert_exporter": "python",
   "pygments_lexer": "ipython3",
   "version": "3.11.4"
  }
 },
 "nbformat": 4,
 "nbformat_minor": 5
}
