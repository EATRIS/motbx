{
 "cells": [
  {
   "cell_type": "markdown",
   "id": "831ae188-c669-4885-88ce-6f4ba7718be8",
   "metadata": {},
   "source": [
    "# Summarise MOTBX resources\n",
    "\n",
    "Convert MOTBX resources (YAML files) to CSV file."
   ]
  },
  {
   "cell_type": "code",
   "execution_count": 1,
   "id": "94f35a6e-6ad6-4801-b66f-496efc669f65",
   "metadata": {},
   "outputs": [],
   "source": [
    "import os\n",
    "import yaml\n",
    "from pathlib import Path\n",
    "from motbxtools import motbxschema\n",
    "import pprint\n",
    "pp = pprint.PrettyPrinter(indent = 2)\n",
    "\n",
    "CWD = Path.cwd()\n",
    "if CWD.name != \"notebooks\":\n",
    "    print(\"Make sure to run this notebook from the 'notebooks' directory.\")\n",
    "\n",
    "MOTBX_DIR = CWD.parent # home directory of this repository\n",
    "\n",
    "with open(MOTBX_DIR.joinpath(\"resources/MOTBX_version.yaml\"), \"r\") as f:\n",
    "    MOTBX_VERSION = yaml.safe_load(f)\n",
    "\n",
    "# path to directory where resources YAML file are saved\n",
    "RESOURCES_DIR = MOTBX_DIR.joinpath(\"resources/curated\")\n",
    "SUMMARY_DIR = MOTBX_DIR.joinpath(\"resources/summary\")\n",
    "if not os.path.exists(SUMMARY_DIR):\n",
    "    os.mkdir(SUMMARY_DIR)\n",
    "SUMMARY_CSV_LATEST = SUMMARY_DIR.joinpath(\n",
    "    f\"MOTBX_{MOTBX_VERSION['latest']}.csv\")\n",
    "SUMMARY_CSV_PREVIOUS = SUMMARY_DIR.joinpath(\n",
    "    f\"MOTBX_{MOTBX_VERSION['previous'][0]}.csv\")\n",
    "CHANGELOG_CSV = SUMMARY_DIR.joinpath(\n",
    "    f\"changelog_{MOTBX_VERSION['latest']}.csv\")\n",
    "\n",
    "# path to JSON SCHEMA file defining structure of MOTBX resources\n",
    "SCHEMA_JSON = MOTBX_DIR.joinpath(\"schema/motbxschema.json\")\n",
    "\n",
    "TEST_RESOURCES_DIR = MOTBX_DIR.joinpath(\"tests/resources_pass\")\n",
    "TEST_SUMMARY_CSV = MOTBX_DIR.joinpath(\"tests/resources.csv\")"
   ]
  },
  {
   "cell_type": "markdown",
   "id": "2b50c1c5",
   "metadata": {},
   "source": [
    "Create YAML file summary for test resources."
   ]
  },
  {
   "cell_type": "code",
   "execution_count": 2,
   "id": "c6a888de-4495-4a5a-b191-c5c7fa3f8685",
   "metadata": {},
   "outputs": [
    {
     "name": "stdout",
     "output_type": "stream",
     "text": [
      "Loading resources for latest MOTBX version | test2.yaml\r"
     ]
    }
   ],
   "source": [
    "test_collection = motbxschema.MotbxCollection(TEST_RESOURCES_DIR, SCHEMA_JSON)\n",
    "test_collection.summarise(TEST_SUMMARY_CSV, validate=True)"
   ]
  },
  {
   "cell_type": "markdown",
   "id": "0890640e",
   "metadata": {},
   "source": [
    "Create summary for curated resources"
   ]
  },
  {
   "cell_type": "code",
   "execution_count": 3,
   "metadata": {},
   "outputs": [
    {
     "name": "stdout",
     "output_type": "stream",
     "text": [
      "Loading summary of previous MOTBX version  | ID0081\n",
      "Loading resources for latest MOTBX version | ID0081.yaml\r"
     ]
    }
   ],
   "source": [
    "motbx_collection = motbxschema.MotbxCollection(RESOURCES_DIR, SCHEMA_JSON)\n",
    "motbx_collection.summarise(SUMMARY_CSV_LATEST, validate=False,\n",
    "                           summary_csv_path_old=SUMMARY_CSV_PREVIOUS,\n",
    "                           changelog_path=CHANGELOG_CSV)"
   ]
  },
  {
   "cell_type": "code",
   "execution_count": 7,
   "metadata": {},
   "outputs": [
    {
     "name": "stdout",
     "output_type": "stream",
     "text": [
      "{'metabolomics', 'genomics', 'DNA', 'transcriptomics', 'reference data set', 'internal quality control (IQC)', 'metadata standard', 'registry', 'data standard', 'multi-omics', 'biological fluid', 'guideline', 'scientific publication', 'biomarker', 'ISO standard', 'PCR', 'reference material', 'EATRIS-Plus', 'phenotypic data', 'proteomics', 'preclinical study', 'epigenomics', 'proficiency testing', 'software application', 'array', 'mass spectrometry', 'miRNA', 'database', 'minimum information standard', 'sequencing', 'protocol', 'mRNA'}\n"
     ]
    },
    {
     "data": {
      "text/plain": [
       "{('Epigenomics', 'Guidelines and best practices'),\n",
       " ('Epigenomics', 'Protocols'),\n",
       " ('Epigenomics', 'Raw data processing'),\n",
       " ('Epigenomics', 'Technical and quality checks'),\n",
       " ('External Quality Assessment', 'Proficiency Testing programme'),\n",
       " ('External Quality Assessment', 'Quality certification'),\n",
       " ('Genomics', 'Guidelines and best practices'),\n",
       " ('Genomics', 'Raw data processing'),\n",
       " ('Internal Quality Control', 'Guidelines and best practices'),\n",
       " ('Internal Quality Control', 'Reference material'),\n",
       " ('Metabolomics', 'Clinical use cases'),\n",
       " ('Metabolomics', 'Guidelines and best practices'),\n",
       " ('Metabolomics', 'Protocols'),\n",
       " ('Metabolomics', 'Raw data processing'),\n",
       " ('Omics data management and analysis', 'FAIR omics data'),\n",
       " ('Omics data management and analysis', 'Multi-omics analysis'),\n",
       " ('Proteomics', 'Guidelines and best practices'),\n",
       " ('Proteomics', 'Protocols'),\n",
       " ('Proteomics', 'Raw data processing'),\n",
       " ('Proteomics', 'Reference material'),\n",
       " ('Proteomics', 'Samples processing'),\n",
       " ('Proteomics', 'Technical and quality checks'),\n",
       " ('Proteomics', 'Tool'),\n",
       " ('Transcriptomics', 'Clinical use cases'),\n",
       " ('Transcriptomics', 'Guidelines and best practices'),\n",
       " ('Transcriptomics', 'Preclinical use cases'),\n",
       " ('Transcriptomics', 'Protocols'),\n",
       " ('Transcriptomics', 'Raw data processing'),\n",
       " ('Transcriptomics', 'Reference material')}"
      ]
     },
     "execution_count": 7,
     "metadata": {},
     "output_type": "execute_result"
    }
   ],
   "source": [
    "info = motbx_collection.get_info()\n",
    "print(info[\"resourceTags\"])\n",
    "info[(\"resourceCategory\", \"resourceSubcategory\")]"
   ]
  }
 ],
 "metadata": {
  "kernelspec": {
   "display_name": "Python 3.11 (motbxtools)",
   "language": "python",
   "name": "motbxtools"
  },
  "language_info": {
   "codemirror_mode": {
    "name": "ipython",
    "version": 3
   },
   "file_extension": ".py",
   "mimetype": "text/x-python",
   "name": "python",
   "nbconvert_exporter": "python",
   "pygments_lexer": "ipython3",
   "version": "3.11.4"
  }
 },
 "nbformat": 4,
 "nbformat_minor": 5
}
