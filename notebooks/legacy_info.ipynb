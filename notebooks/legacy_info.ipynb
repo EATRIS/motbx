{
 "cells": [
  {
   "cell_type": "markdown",
   "id": "ed7c80d5",
   "metadata": {},
   "source": [
    "# Explore first version of MOTBX content"
   ]
  },
  {
   "cell_type": "code",
   "execution_count": null,
   "id": "e75d1c58-4e70-436d-8cc8-5c6a7463a9c9",
   "metadata": {},
   "outputs": [],
   "source": [
    "from pathlib import Path\n",
    "import os\n",
    "import pprint\n",
    "pp = pprint.PrettyPrinter(indent=2, width=80, compact=True)\n",
    "\n",
    "\n",
    "CWD = Path.cwd()\n",
    "if CWD.name != \"notebooks\":\n",
    "    print(\"Make sure to run this notebook from the 'notebooks' directory.\")\n",
    "MOTBX_DIR = CWD.parent\n",
    "MOTBX_LEGACY_XLSX = MOTBX_DIR.joinpath(\n",
    "    \"resources/legacy/MOTBX_resources_for_website.xlsx\")\n",
    "RESOURCES_DIR = MOTBX_DIR.joinpath(\"resources/curated\")\n",
    "if not os.path.exists(RESOURCES_DIR):\n",
    "    os.mkdir(RESOURCES_DIR)\n",
    "SCHEMA_JSON = MOTBX_DIR.joinpath(\"schema/motbxschema.json\")\n"
   ]
  },
  {
   "cell_type": "markdown",
   "id": "1fe99555",
   "metadata": {},
   "source": [
    "Load sheet from Excel file and print information about colummns and field values."
   ]
  },
  {
   "cell_type": "code",
   "execution_count": null,
   "id": "fcd872cf",
   "metadata": {},
   "outputs": [],
   "source": [
    "import pandas as pd\n",
    "\n",
    "content_df = pd.read_excel(\n",
    "    MOTBX_LEGACY_XLSX, sheet_name=\"website_content_for_JB\", header=0)\n",
    "content_df.head()"
   ]
  },
  {
   "cell_type": "code",
   "execution_count": null,
   "id": "d0ab2b3c-9617-47cb-b98f-6c822ef88aab",
   "metadata": {},
   "outputs": [],
   "source": [
    "# column names\n",
    "list(content_df.columns)"
   ]
  },
  {
   "cell_type": "code",
   "execution_count": null,
   "id": "c3481844-0070-428d-9d16-aff432642770",
   "metadata": {},
   "outputs": [],
   "source": [
    "# category names\n",
    "sorted(set(content_df[\"Category\"]))"
   ]
  },
  {
   "cell_type": "code",
   "execution_count": null,
   "id": "5a408c8e",
   "metadata": {},
   "outputs": [],
   "source": [
    "# category names\n",
    "pp.pprint(sorted([len(i) for i in content_df[\"Sub-category\"]]))\n",
    "sorted(set(content_df[\"Sub-category\"]))"
   ]
  },
  {
   "cell_type": "code",
   "execution_count": null,
   "id": "02152cfc-7d0a-4112-b742-032e3a7ca2f7",
   "metadata": {},
   "outputs": [],
   "source": [
    "# lengths of titles\n",
    "pp.pprint(sorted([len(i) for i in content_df[\"Resource_title\"]]))"
   ]
  },
  {
   "cell_type": "code",
   "execution_count": null,
   "id": "9cf61106-0e69-4375-a329-3ef6f10934a7",
   "metadata": {},
   "outputs": [],
   "source": [
    "# lengths of descriptions\n",
    "pp.pprint(sorted([len(i) for i in content_df[\"Resource_description\"]]))"
   ]
  },
  {
   "cell_type": "code",
   "execution_count": null,
   "id": "d2553303-9069-4a81-9c14-f3615f23470b",
   "metadata": {},
   "outputs": [],
   "source": [
    "# tags\n",
    "pp.pprint(sorted(set([j.strip() for i in content_df[\"Tags\"] \n",
    "    for j in i.split(\",\")])))"
   ]
  },
  {
   "cell_type": "code",
   "execution_count": null,
   "id": "55de2d8b-3aba-4d71-afce-7bdda2714866",
   "metadata": {},
   "outputs": [],
   "source": [
    "# category names\n",
    "sorted(set([i for i in content_df[\"Doc_type\"] if isinstance(i, str)]))"
   ]
  },
  {
   "cell_type": "code",
   "execution_count": null,
   "id": "8abf29b4-08b3-4a78-af89-87b6a18d2b82",
   "metadata": {},
   "outputs": [],
   "source": [
    "# category names\n",
    "sorted(set([i for i in content_df[\"Format\"] if isinstance(i, str)]))"
   ]
  },
  {
   "cell_type": "markdown",
   "id": "b217e21e",
   "metadata": {},
   "source": [
    "Create YAML files from data frame rows."
   ]
  },
  {
   "cell_type": "code",
   "execution_count": null,
   "id": "fd75d6ac",
   "metadata": {},
   "outputs": [],
   "source": [
    "from motbxtools import motbxschema\n",
    "import jsonschema\n",
    "import yaml\n",
    "\n",
    "schema = motbxschema.MotbxSchema(SCHEMA_JSON)"
   ]
  },
  {
   "cell_type": "code",
   "execution_count": null,
   "id": "c6b0aac8",
   "metadata": {},
   "outputs": [],
   "source": [
    "resources_to_check = []\n",
    "for idx, row in content_df.iterrows():\n",
    "    row = row.str.strip()\n",
    "    resource_id = f\"ID{idx+1:04n}\"\n",
    "    resource = {\n",
    "        \"resourceID\": resource_id,\n",
    "        \"resourceCategory\": row[\"Category\"],\n",
    "        \"resourceSubcategory\": row[\"Sub-category\"],\n",
    "        \"resourceTitle\": row[\"Resource_title\"],\n",
    "        \"resourceDescription\": row[\"Resource_description\"],\n",
    "        \"resourceUrl\": row[\"Link_to_resource\"].replace(\"http://\", \"https://\"),\n",
    "        \"resourceTags\": sorted([i.strip() for i in row[\"Tags\"].split(\",\")]), \n",
    "    }\n",
    "    if resource[\"resourceUrl\"] != row[\"Link_to_resource\"]:\n",
    "        resources_to_check.append(\n",
    "            (resource_id, row[\"Resource_title\"], \n",
    "            f\"NOTE: Use https instead of http in {row['Link_to_resource']}\"))\n",
    "    # validate against JSON schema\n",
    "    try:\n",
    "        jsonschema.validate(resource, schema.schema)\n",
    "    except Exception as e:\n",
    "        # print(\"--------------------\\n\", resource_id, row[\"Resource_title\"])\n",
    "        # print(e)\n",
    "        resources_to_check.append((resource_id, row[\"Resource_title\"], str(e)))\n",
    "        continue\n",
    "    # save to file\n",
    "    yaml_path = RESOURCES_DIR.joinpath(f\"{resource_id}.yaml\")\n",
    "    with open(yaml_path, \"w\") as fp:\n",
    "        yaml.dump(resource, fp)"
   ]
  },
  {
   "cell_type": "code",
   "execution_count": null,
   "id": "af94fa36",
   "metadata": {},
   "outputs": [],
   "source": [
    "import csv\n",
    "\n",
    "# write warnings and errors about resources to file\n",
    "out_file = MOTBX_DIR.joinpath(\n",
    "    \"resources/legacy/NOTES_on_MOTBX_resources_for_website.csv\")\n",
    "with open(out_file, \"w\") as fp:\n",
    "    writer = csv.writer(fp, delimiter='\\t', quotechar='\"')\n",
    "    for row in resources_to_check:\n",
    "        writer.writerow([\"-\"*80])\n",
    "        writer.writerow(row)"
   ]
  }
 ],
 "metadata": {
  "kernelspec": {
   "display_name": "Python 3.11 (motbxtools)",
   "language": "python",
   "name": "motbxtools"
  },
  "language_info": {
   "codemirror_mode": {
    "name": "ipython",
    "version": 3
   },
   "file_extension": ".py",
   "mimetype": "text/x-python",
   "name": "python",
   "nbconvert_exporter": "python",
   "pygments_lexer": "ipython3",
   "version": "3.11.4"
  }
 },
 "nbformat": 4,
 "nbformat_minor": 5
}
