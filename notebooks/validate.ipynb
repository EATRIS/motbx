{
 "cells": [
  {
   "cell_type": "markdown",
   "id": "831ae188-c669-4885-88ce-6f4ba7718be8",
   "metadata": {},
   "source": [
    "# Validate MOTBX resources\n",
    "\n",
    "Validate MOTBX resources (YAML files) against JSON schema using *jsonschema*."
   ]
  },
  {
   "cell_type": "code",
   "execution_count": null,
   "id": "94f35a6e-6ad6-4801-b66f-496efc669f65",
   "metadata": {},
   "outputs": [],
   "source": [
    "import os\n",
    "import sys\n",
    "module_path = os.path.abspath(os.path.join(\"../src\"))\n",
    "if module_path not in sys.path:\n",
    "    sys.path.append(module_path)\n",
    "\n",
    "home_dir = \"../\"\n",
    "resource_dir = os.path.join(home_dir, \"resources/curated\")\n",
    "schema_path = os.path.join(home_dir, \"schema\", \"motbxschema.json\")\n",
    "test_resource = os.path.join(home_dir, \"test\", \"resource.yaml\")"
   ]
  },
  {
   "cell_type": "code",
   "execution_count": null,
   "id": "02e9d01c",
   "metadata": {},
   "outputs": [],
   "source": [
    "from motbxtools import motbxschema\n",
    "\n",
    "schema = motbxschema.MotbxSchema(schema_path)\n",
    "resource = motbxschema.MotbxResource(test_resource)\n",
    "resource.validate(schema)"
   ]
  }
 ],
 "metadata": {
  "kernelspec": {
   "display_name": "Python 3.11 (motbxtools)",
   "language": "python",
   "name": "motbxtools"
  },
  "language_info": {
   "codemirror_mode": {
    "name": "ipython",
    "version": 3
   },
   "file_extension": ".py",
   "mimetype": "text/x-python",
   "name": "python",
   "nbconvert_exporter": "python",
   "pygments_lexer": "ipython3",
   "version": "3.11.4"
  }
 },
 "nbformat": 4,
 "nbformat_minor": 5
}
