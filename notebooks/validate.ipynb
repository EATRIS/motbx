{
 "cells": [
  {
   "cell_type": "markdown",
   "id": "831ae188-c669-4885-88ce-6f4ba7718be8",
   "metadata": {},
   "source": [
    "# Validate MOTBX resources\n",
    "\n",
    "Validate MOTBX resources (YAML files) against JSON schema using *jsonschema*."
   ]
  },
  {
   "cell_type": "code",
   "execution_count": 1,
   "id": "94f35a6e-6ad6-4801-b66f-496efc669f65",
   "metadata": {},
   "outputs": [],
   "source": [
    "import os\n",
    "import json\n",
    "import yaml\n",
    "import jsonschema\n",
    "\n",
    "home_dir = \"../\"\n",
    "resource_dir = os.path.join(home_dir, \"resources/curated\")\n",
    "schema_path = os.path.join(home_dir, \"schema\", \"motbxschema.json\")\n",
    "test_resource = os.path.join(home_dir, \"test\", \"resource.yaml\")"
   ]
  },
  {
   "cell_type": "code",
   "execution_count": 2,
   "id": "93013f06-ff43-4643-b860-585e0d0026fc",
   "metadata": {},
   "outputs": [],
   "source": [
    "# load JSON schema from file\n",
    "schema = json.load(open(schema_path, \"r\"))"
   ]
  },
  {
   "cell_type": "code",
   "execution_count": 3,
   "id": "c6a888de-4495-4a5a-b191-c5c7fa3f8685",
   "metadata": {},
   "outputs": [],
   "source": [
    "# load test resource and validate\n",
    "with open(test_resource, \"r\") as fp:\n",
    "    jsonschema.validate(\n",
    "        yaml.safe_load(fp), \n",
    "        schema, \n",
    "        format_checker = jsonschema.FormatChecker())"
   ]
  }
 ],
 "metadata": {
  "kernelspec": {
   "display_name": "Python 3.11 (motbxtools)",
   "language": "python",
   "name": "motbxtools"
  },
  "language_info": {
   "codemirror_mode": {
    "name": "ipython",
    "version": 3
   },
   "file_extension": ".py",
   "mimetype": "text/x-python",
   "name": "python",
   "nbconvert_exporter": "python",
   "pygments_lexer": "ipython3",
   "version": "3.11.4"
  }
 },
 "nbformat": 4,
 "nbformat_minor": 5
}
