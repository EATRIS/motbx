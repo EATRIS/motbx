{
 "cells": [
  {
   "cell_type": "markdown",
   "id": "831ae188-c669-4885-88ce-6f4ba7718be8",
   "metadata": {},
   "source": [
    "# Validate MOTBX resources\n",
    "\n",
    "Validate MOTBX resources (YAML files) against JSON schema using *jsonschema*.\n",
    "A report is written containing file names of resources that fauled validation.\n",
    "Validation can fail when resource YAML file does not comply with JSON schema, or when URL is invalid or not live."
   ]
  },
  {
   "cell_type": "code",
   "execution_count": 1,
   "id": "94f35a6e-6ad6-4801-b66f-496efc669f65",
   "metadata": {},
   "outputs": [],
   "source": [
    "import os\n",
    "import sys\n",
    "from pathlib import Path\n",
    "from motbxtools import motbxschema\n",
    "import pprint\n",
    "pp = pprint.PrettyPrinter(indent = 2)\n",
    "\n",
    "CWD = Path.cwd()\n",
    "if CWD.name != \"notebooks\":\n",
    "    print(\"Make sure to run this notebook from the 'notebooks' directory.\")\n",
    "\n",
    "MOTBX_DIR = CWD.parent # home directory of this repository\n",
    "\n",
    "# path to directory where resources YAML file are saved\n",
    "RESOURCES_DIR = MOTBX_DIR.joinpath(\"resources/curated\")\n",
    "\n",
    "# path to JSON SCHEMA file defining structure of MOTBX resources\n",
    "SCHEMA_JSON = MOTBX_DIR.joinpath(\"schema/motbxschema.json\")\n",
    "\n",
    "# path to validation report\n",
    "# - file that contains info about failed validations of MOTBX resources\n",
    "VALIDATION_REPORT = MOTBX_DIR.joinpath(\n",
    "    \"resources/summary/validation_report.txt\")"
   ]
  },
  {
   "cell_type": "code",
   "execution_count": 2,
   "id": "02e9d01c",
   "metadata": {},
   "outputs": [
    {
     "name": "stdout",
     "output_type": "stream",
     "text": [
      "ID0081.yaml\r"
     ]
    }
   ],
   "source": [
    "# load MOTBX schema used for validation\n",
    "schema = motbxschema.MotbxSchema(SCHEMA_JSON)\n",
    "\n",
    "with open(VALIDATION_REPORT, \"w\") as fp:\n",
    "    print(\"VALIDATION REPORT - MOTBX resources that failed validation\", file=fp)\n",
    "    print(80*\"-\", file=fp)\n",
    "    for root, dirs, files in os.walk(RESOURCES_DIR):\n",
    "        for name in files:\n",
    "            if not name.endswith(\".yaml\"):\n",
    "                continue\n",
    "            print(name, end=\"\\r\")\n",
    "            # load MOTBX resource\n",
    "            resource = motbxschema.MotbxResource(os.path.join(root, name))\n",
    "            try:\n",
    "                # validate MOTBX resource\n",
    "                resource.validate(schema)\n",
    "            except Exception as error:\n",
    "                # print validation errors to validation report file\n",
    "                print(error, file=fp)\n",
    "                print(\"Resource:\", name, file=fp)\n",
    "                print(\"URL:\", resource.resource[\"resourceUrl\"], file=fp)\n",
    "                print(80*\"-\", file=fp)"
   ]
  }
 ],
 "metadata": {
  "kernelspec": {
   "display_name": "Python 3.11 (motbxtools)",
   "language": "python",
   "name": "motbxtools"
  },
  "language_info": {
   "codemirror_mode": {
    "name": "ipython",
    "version": 3
   },
   "file_extension": ".py",
   "mimetype": "text/x-python",
   "name": "python",
   "nbconvert_exporter": "python",
   "pygments_lexer": "ipython3",
   "version": "3.11.4"
  }
 },
 "nbformat": 4,
 "nbformat_minor": 5
}
