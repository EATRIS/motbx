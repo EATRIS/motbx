{
 "cells": [
  {
   "cell_type": "markdown",
   "id": "831ae188-c669-4885-88ce-6f4ba7718be8",
   "metadata": {},
   "source": [
    "# Validate MOTBX resources\n",
    "\n",
    "Validate MOTBX resources (YAML files) against JSON schema using *jsonschema*."
   ]
  },
  {
   "cell_type": "code",
   "execution_count": null,
   "id": "94f35a6e-6ad6-4801-b66f-496efc669f65",
   "metadata": {},
   "outputs": [],
   "source": [
    "from pathlib import Path\n",
    "import os\n",
    "import csv\n",
    "from motbxtools import motbxschema\n",
    "import json\n",
    "import yaml\n",
    "import pprint\n",
    "pp = pprint.PrettyPrinter(indent = 2)\n",
    "\n",
    "CWD = Path.cwd()\n",
    "if CWD.name != \"notebooks\":\n",
    "    print(\"Make sure to run this notebook from the 'notebooks' directory.\")\n",
    "\n",
    "MOTBX_DIR = CWD.parent # home directory of this repository\n",
    "\n",
    "# path to directory where resources YAML file are saved\n",
    "RESOURCES_DIR = MOTBX_DIR.joinpath(\"resources/curated\")\n",
    "\n",
    "# path to JSON SCHEMA file defining structure of MOTBX resources\n",
    "SCHEMA_JSON = MOTBX_DIR.joinpath(\"schema/motbxschema.json\")"
   ]
  },
  {
   "cell_type": "code",
   "execution_count": null,
   "id": "02e9d01c",
   "metadata": {},
   "outputs": [],
   "source": [
    "schema = motbxschema.MotbxSchema(SCHEMA_JSON)\n",
    "\n",
    "for root, dirs, files in os.walk(RESOURCES_DIR):\n",
    "    for name in files:\n",
    "        if not name.endswith(\".yaml\"):\n",
    "            continue\n",
    "        print(name)\n",
    "\n",
    "        # load test resource and validate\n",
    "        resource = motbxschema.MotbxResource(os.path.join(root, name))\n",
    "        resource.validate(schema)"
   ]
  }
 ],
 "metadata": {
  "kernelspec": {
   "display_name": "Python 3.11 (motbxtools)",
   "language": "python",
   "name": "motbxtools"
  },
  "language_info": {
   "codemirror_mode": {
    "name": "ipython",
    "version": 3
   },
   "file_extension": ".py",
   "mimetype": "text/x-python",
   "name": "python",
   "nbconvert_exporter": "python",
   "pygments_lexer": "ipython3",
   "version": "3.11.4"
  }
 },
 "nbformat": 4,
 "nbformat_minor": 5
}
