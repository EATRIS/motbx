{
 "cells": [
  {
   "cell_type": "markdown",
   "id": "ed7c80d5",
   "metadata": {},
   "source": [
    "# Add first version of MOTBX content to this repository\n",
    "\n",
    "This notebook must be run from the `notebooks` directory.\n",
    "\n",
    "## Define file paths\n",
    "\n",
    "Change file paths if necessary."
   ]
  },
  {
   "cell_type": "code",
   "execution_count": 69,
   "id": "e75d1c58-4e70-436d-8cc8-5c6a7463a9c9",
   "metadata": {},
   "outputs": [],
   "source": [
    "from pathlib import Path\n",
    "import os\n",
    "import pprint\n",
    "pp = pprint.PrettyPrinter(indent=2, width=80, compact=True)\n",
    "\n",
    "\n",
    "CWD = Path.cwd()\n",
    "if CWD.name != \"notebooks\":\n",
    "    print(\"Make sure to run this notebook from the 'notebooks' directory.\")\n",
    "\n",
    "MOTBX_DIR = CWD.parent # home directory of this repository\n",
    "# path to Excel file containing legacy resource descriptions\n",
    "MOTBX_LEGACY_XLSX = MOTBX_DIR.joinpath(\n",
    "    \"resources/legacy/MOTBX_resources_for_website - Copy 2023-07-28.xlsx\")\n",
    "# name of sheet in Excel file containing MOTBX resource descriptions\n",
    "MOTBX_LEGACY_SHEET_NAME = \"website_content_for_JB\"\n",
    "# path to directory where resources YAML file are to be saved\n",
    "RESOURCES_DIR = MOTBX_DIR.joinpath(\"resources/curated\")\n",
    "# create new directory to save resource files if it doesn't exist yet\n",
    "if not os.path.exists(RESOURCES_DIR):\n",
    "    os.mkdir(RESOURCES_DIR)\n",
    "# path file listing resources that fail validation with MOTBX resource schema\n",
    "MOTBX_LEGACY_ISSUES = MOTBX_DIR.joinpath(\n",
    "    \"resources/legacy/NOTES_on_MOTBX_resources_for_website.csv\")\n",
    "# path to JSON SCHEMA file defining structure of MOTBX resources\n",
    "SCHEMA_JSON = MOTBX_DIR.joinpath(\"schema/motbxschema.json\")"
   ]
  },
  {
   "cell_type": "markdown",
   "id": "1fe99555",
   "metadata": {},
   "source": [
    "## Read input file\n",
    "\n",
    "Load sheet from Excel file and print information about colummns and field values."
   ]
  },
  {
   "cell_type": "code",
   "execution_count": 70,
   "id": "fcd872cf",
   "metadata": {},
   "outputs": [
    {
     "data": {
      "text/html": [
       "<div>\n",
       "<style scoped>\n",
       "    .dataframe tbody tr th:only-of-type {\n",
       "        vertical-align: middle;\n",
       "    }\n",
       "\n",
       "    .dataframe tbody tr th {\n",
       "        vertical-align: top;\n",
       "    }\n",
       "\n",
       "    .dataframe thead th {\n",
       "        text-align: right;\n",
       "    }\n",
       "</style>\n",
       "<table border=\"1\" class=\"dataframe\">\n",
       "  <thead>\n",
       "    <tr style=\"text-align: right;\">\n",
       "      <th></th>\n",
       "      <th>Category</th>\n",
       "      <th>Category_description</th>\n",
       "      <th>Sub-category</th>\n",
       "      <th>Resource_title</th>\n",
       "      <th>Resource_description</th>\n",
       "      <th>Link_to_resource</th>\n",
       "      <th>Tags</th>\n",
       "      <th>Doc_type</th>\n",
       "      <th>Format</th>\n",
       "      <th>OLD_Resource_description</th>\n",
       "    </tr>\n",
       "  </thead>\n",
       "  <tbody>\n",
       "    <tr>\n",
       "      <th>0</th>\n",
       "      <td>Internal Quality Control</td>\n",
       "      <td>NaN</td>\n",
       "      <td>Guidelines and best practices</td>\n",
       "      <td>ISO Guide 80:2014: Guidance for in-house prepa...</td>\n",
       "      <td>ISO Guide 80:2014 guidance for the in-house pr...</td>\n",
       "      <td>https://www.iso.org/standard/44313.html</td>\n",
       "      <td>ISO standard, guidelines, quality control mate...</td>\n",
       "      <td>website/external</td>\n",
       "      <td>Website</td>\n",
       "      <td>Guidelines for the in-house preparation of qua...</td>\n",
       "    </tr>\n",
       "    <tr>\n",
       "      <th>1</th>\n",
       "      <td>Internal Quality Control</td>\n",
       "      <td>NaN</td>\n",
       "      <td>Guidelines and best practices</td>\n",
       "      <td>ISO Guide 31:2015: Reference material - conten...</td>\n",
       "      <td>ISO Guide 31:2015 guideline assists reference ...</td>\n",
       "      <td>https://www.iso.org/standard/52468.html</td>\n",
       "      <td>ISO standard, documentation, guidelines, refer...</td>\n",
       "      <td>Reference material</td>\n",
       "      <td>Website</td>\n",
       "      <td>Contents of certificates, labels and accompany...</td>\n",
       "    </tr>\n",
       "    <tr>\n",
       "      <th>2</th>\n",
       "      <td>Internal Quality Control</td>\n",
       "      <td>NaN</td>\n",
       "      <td>Reference material</td>\n",
       "      <td>ERCC RNA Spike-In Mix: ThermoFisher Scientific...</td>\n",
       "      <td>Variation in RNA expression data can be attrib...</td>\n",
       "      <td>https://www.thermofisher.com/order/catalog/pro...</td>\n",
       "      <td>reference material, RNA-seq, NGS, sequencing, ...</td>\n",
       "      <td>Reference material</td>\n",
       "      <td>Website</td>\n",
       "      <td>ERCC RNA Spike-In Mix used as RNA control for ...</td>\n",
       "    </tr>\n",
       "    <tr>\n",
       "      <th>3</th>\n",
       "      <td>Internal Quality Control</td>\n",
       "      <td>NaN</td>\n",
       "      <td>Reference material</td>\n",
       "      <td>Universal Human Reference RNA: ThermoFisher Sc...</td>\n",
       "      <td>Universal Human Reference RNA is an RNA extrac...</td>\n",
       "      <td>https://www.thermofisher.com/order/catalog/pro...</td>\n",
       "      <td>reference material, RNA-seq, NGS, sequencing, ...</td>\n",
       "      <td>Reference material</td>\n",
       "      <td>Website</td>\n",
       "      <td>Universal Human Reference RNA used as a positi...</td>\n",
       "    </tr>\n",
       "    <tr>\n",
       "      <th>4</th>\n",
       "      <td>Internal Quality Control</td>\n",
       "      <td>NaN</td>\n",
       "      <td>Reference material</td>\n",
       "      <td>Total Human Brain Reference RNA: ThermoFisher ...</td>\n",
       "      <td>Human Brain Total RNA is a total RNA sample ex...</td>\n",
       "      <td>https://www.thermofisher.com/order/catalog/pro...</td>\n",
       "      <td>reference material, RNA-seq, NGS, sequencing, ...</td>\n",
       "      <td>Reference material</td>\n",
       "      <td>Website</td>\n",
       "      <td>Total Human brain RNA used as positive control...</td>\n",
       "    </tr>\n",
       "  </tbody>\n",
       "</table>\n",
       "</div>"
      ],
      "text/plain": [
       "                   Category  Category_description  \\\n",
       "0  Internal Quality Control                   NaN   \n",
       "1  Internal Quality Control                   NaN   \n",
       "2  Internal Quality Control                   NaN   \n",
       "3  Internal Quality Control                   NaN   \n",
       "4  Internal Quality Control                   NaN   \n",
       "\n",
       "                    Sub-category  \\\n",
       "0  Guidelines and best practices   \n",
       "1  Guidelines and best practices   \n",
       "2             Reference material   \n",
       "3             Reference material   \n",
       "4             Reference material   \n",
       "\n",
       "                                      Resource_title  \\\n",
       "0  ISO Guide 80:2014: Guidance for in-house prepa...   \n",
       "1  ISO Guide 31:2015: Reference material - conten...   \n",
       "2  ERCC RNA Spike-In Mix: ThermoFisher Scientific...   \n",
       "3  Universal Human Reference RNA: ThermoFisher Sc...   \n",
       "4  Total Human Brain Reference RNA: ThermoFisher ...   \n",
       "\n",
       "                                Resource_description  \\\n",
       "0  ISO Guide 80:2014 guidance for the in-house pr...   \n",
       "1  ISO Guide 31:2015 guideline assists reference ...   \n",
       "2  Variation in RNA expression data can be attrib...   \n",
       "3  Universal Human Reference RNA is an RNA extrac...   \n",
       "4  Human Brain Total RNA is a total RNA sample ex...   \n",
       "\n",
       "                                    Link_to_resource  \\\n",
       "0            https://www.iso.org/standard/44313.html   \n",
       "1            https://www.iso.org/standard/52468.html   \n",
       "2  https://www.thermofisher.com/order/catalog/pro...   \n",
       "3  https://www.thermofisher.com/order/catalog/pro...   \n",
       "4  https://www.thermofisher.com/order/catalog/pro...   \n",
       "\n",
       "                                                Tags            Doc_type  \\\n",
       "0  ISO standard, guidelines, quality control mate...    website/external   \n",
       "1  ISO standard, documentation, guidelines, refer...  Reference material   \n",
       "2  reference material, RNA-seq, NGS, sequencing, ...  Reference material   \n",
       "3  reference material, RNA-seq, NGS, sequencing, ...  Reference material   \n",
       "4  reference material, RNA-seq, NGS, sequencing, ...  Reference material   \n",
       "\n",
       "    Format                           OLD_Resource_description  \n",
       "0  Website  Guidelines for the in-house preparation of qua...  \n",
       "1  Website  Contents of certificates, labels and accompany...  \n",
       "2  Website  ERCC RNA Spike-In Mix used as RNA control for ...  \n",
       "3  Website  Universal Human Reference RNA used as a positi...  \n",
       "4  Website  Total Human brain RNA used as positive control...  "
      ]
     },
     "execution_count": 70,
     "metadata": {},
     "output_type": "execute_result"
    }
   ],
   "source": [
    "import pandas as pd\n",
    "\n",
    "content_df = pd.read_excel(\n",
    "    MOTBX_LEGACY_XLSX, sheet_name=MOTBX_LEGACY_SHEET_NAME, header=0)\n",
    "content_df.head()"
   ]
  },
  {
   "cell_type": "markdown",
   "id": "ee3fd6db",
   "metadata": {},
   "source": [
    "### Explore file content"
   ]
  },
  {
   "cell_type": "markdown",
   "id": "3189f8c0",
   "metadata": {},
   "source": []
  },
  {
   "cell_type": "code",
   "execution_count": 71,
   "id": "1cd2f2e2",
   "metadata": {},
   "outputs": [
    {
     "name": "stdout",
     "output_type": "stream",
     "text": [
      "[ 'Category', 'Category_description', 'Sub-category', 'Resource_title',\n",
      "  'Resource_description', 'Link_to_resource', 'Tags', 'Doc_type', 'Format',\n",
      "  'OLD_Resource_description']\n"
     ]
    }
   ],
   "source": [
    "# print column names\n",
    "pp.pprint(list(content_df.columns))"
   ]
  },
  {
   "cell_type": "code",
   "execution_count": 72,
   "id": "2f7d4847",
   "metadata": {},
   "outputs": [
    {
     "data": {
      "text/plain": [
       "{('Epigenomics', 'Guidelines and best practices'),\n",
       " ('Epigenomics', 'Protocols'),\n",
       " ('Epigenomics', 'Raw data processing'),\n",
       " ('Epigenomics', 'Technical and quality checks'),\n",
       " ('External Quality Assessment', 'Proficiency Testing programme'),\n",
       " ('External Quality Assessment', 'Quality certification'),\n",
       " ('Genomics', 'Guidelines and best practices'),\n",
       " ('Genomics', 'Raw data processing'),\n",
       " ('Internal Quality Control', 'Guidelines and best practices'),\n",
       " ('Internal Quality Control', 'Reference material'),\n",
       " ('Metabolomics', 'Clinical use cases'),\n",
       " ('Metabolomics', 'Guidelines and best practices'),\n",
       " ('Metabolomics', 'Protocols'),\n",
       " ('Metabolomics', 'Raw data processing'),\n",
       " ('Omics data management and analysis', 'FAIR omics data'),\n",
       " ('Omics data management and analysis', 'Multi-omics analysis'),\n",
       " ('Proteomics', 'Guidelines and best practices'),\n",
       " ('Proteomics', 'Protocols'),\n",
       " ('Proteomics', 'Raw data processing'),\n",
       " ('Proteomics', 'Reference material'),\n",
       " ('Proteomics', 'Samples processing'),\n",
       " ('Proteomics', 'Technical and quality checks'),\n",
       " ('Proteomics', 'Tool'),\n",
       " ('Transcriptomics', 'Clinical use cases'),\n",
       " ('Transcriptomics', 'Guidelines and best practices'),\n",
       " ('Transcriptomics', 'Preclinical use cases'),\n",
       " ('Transcriptomics', 'Protocols'),\n",
       " ('Transcriptomics', 'Raw data processing'),\n",
       " ('Transcriptomics', 'Reference material')}"
      ]
     },
     "execution_count": 72,
     "metadata": {},
     "output_type": "execute_result"
    }
   ],
   "source": [
    "# print category and corresponding subcategory names\n",
    "set([(i[\"Category\"], i[\"Sub-category\"]) for idx, i in content_df.iterrows()])"
   ]
  },
  {
   "cell_type": "code",
   "execution_count": 73,
   "id": "f1f47c97",
   "metadata": {},
   "outputs": [
    {
     "data": {
      "text/markdown": [
       "\n",
       "Length of category names ranges from 8 to 34 characters.\n",
       "\n",
       "Length of sub-category names ranges from 4 to 29 characters.\n",
       "\n",
       "Length of titles ranges from 16 to 158 characters.\n",
       "\n",
       "Length of resource descriptions ranges from 59 to 2480 characters."
      ],
      "text/plain": [
       "<IPython.core.display.Markdown object>"
      ]
     },
     "execution_count": 73,
     "metadata": {},
     "output_type": "execute_result"
    }
   ],
   "source": [
    "from IPython.display import Markdown\n",
    "\n",
    "# print length of category names, etc.\n",
    "len_cat = set([len(i) for i in content_df[\"Category\"]])\n",
    "len_sub = set([len(i) for i in content_df[\"Sub-category\"]])\n",
    "len_title = set([len(i) for i in content_df[\"Resource_title\"]])\n",
    "len_desc = set([len(i) for i in content_df[\"Resource_description\"]])\n",
    "\n",
    "Markdown(\"\"\"\n",
    "Length of category names ranges from %i to %i characters.\n",
    "\n",
    "Length of sub-category names ranges from %i to %i characters.\n",
    "\n",
    "Length of titles ranges from %i to %i characters.\n",
    "\n",
    "Length of resource descriptions ranges from %i to %i characters.\"\"\"%(\n",
    "    min(len_cat), max(len_cat), min(len_sub), max(len_sub),\n",
    "    min(len_title), max(len_title), min(len_desc), max(len_desc)))"
   ]
  },
  {
   "cell_type": "code",
   "execution_count": 74,
   "id": "d2553303-9069-4a81-9c14-f3615f23470b",
   "metadata": {},
   "outputs": [
    {
     "name": "stdout",
     "output_type": "stream",
     "text": [
      "[ 'BWAmeth', 'CpG methylation', 'DNAseq', 'EATRIS-Plus project', 'ECCQ',\n",
      "  'EM-seq', 'EM-seq NGS', 'EMQN', 'EQIPD', 'FAIR principles', 'HR-MS analysis',\n",
      "  'Hi-seq', 'ISO standard', 'MIQE', 'MZmine', 'NFcore', 'NGS', 'RNA', 'RNA-seq',\n",
      "  'RT-PCR', 'RT-qPCR', 'Retrotranscription', 'SRiC', 'WGS', 'alignment',\n",
      "  'analysis platform', 'analysis workflows', 'biofluids', 'bioinformatics',\n",
      "  'biomarker', 'biomarkers', 'bismark', 'cDNA synthesis', 'certification',\n",
      "  'clinical guidelines', 'clinical validation', 'data analysis',\n",
      "  'data archives', 'data processing', 'data quality', 'data search',\n",
      "  'data standards', 'documentation', 'epigenomics', 'epigneomics',\n",
      "  'external quality assessment (EQA)', 'extraction', 'genomics',\n",
      "  'good practices', 'guidelines', 'in-house', 'internal quality control (IQC)',\n",
      "  'isolation', 'library preparation', 'lipidomics', 'mRNA', 'mapping',\n",
      "  'mass spectrometry', 'metabolites', 'metabolomics', 'metadata',\n",
      "  'metadata standard', 'metadata standards', 'methyl-seq', 'methyl-seq kit',\n",
      "  'methylation', 'methylation sequencing', 'methylome', 'miRNA', 'miRNA-seq',\n",
      "  'miRNAs', 'microRNA', 'microRNA array profiling', 'multi-omics',\n",
      "  'normalization', 'nucleic acid quantitation', 'phenopackets', 'phenotype',\n",
      "  'plasma', 'preclinical use case', 'proficiency testing programme',\n",
      "  'proteomics', 'protocol', 'publication', 'qPCR', 'qPCR arrays', 'qPCR panels',\n",
      "  'qRT-PCR', 'quality', 'quality assessment', 'quality assurance',\n",
      "  'quality control', 'quality control material', 'reference dataset',\n",
      "  'reference material', 'reference materials', 'reproducibility',\n",
      "  'sample collection', 'sample preparation', 'sample processing protocol',\n",
      "  'samples', 'sequencing', 'serum', 'services registry', 'small molecules',\n",
      "  'software', 'software registry', 'somatic mutation', 'standards',\n",
      "  'study design', 'study management', 'targeted metabolomics', 'template',\n",
      "  'tool registry', 'toolbox', 'toolkit', 'transcriptomics', 'tutorials',\n",
      "  'unmethylated lambda DNA', 'untargeted lipidomics', 'untargeted metabolomics',\n",
      "  'visualisation tool', 'whole-exome sequencing', 'workflow',\n",
      "  'workflow registry']\n"
     ]
    }
   ],
   "source": [
    "# print tags\n",
    "pp.pprint(sorted(set([j.strip() for i in content_df[\"Tags\"]\n",
    "    for j in i.split(\",\")])))"
   ]
  },
  {
   "cell_type": "code",
   "execution_count": 75,
   "id": "55de2d8b-3aba-4d71-afce-7bdda2714866",
   "metadata": {},
   "outputs": [
    {
     "data": {
      "text/plain": [
       "['Article',\n",
       " 'Article/Guideline',\n",
       " 'Certification',\n",
       " 'Deliverable/report',\n",
       " 'Guideline',\n",
       " 'Reference material',\n",
       " 'protocol/SOP',\n",
       " 'source code',\n",
       " 'source code and documentation',\n",
       " 'template/Case study',\n",
       " 'website/external']"
      ]
     },
     "execution_count": 75,
     "metadata": {},
     "output_type": "execute_result"
    }
   ],
   "source": [
    "# Doc_type names\n",
    "sorted(set([i for i in content_df[\"Doc_type\"] if isinstance(i, str)]))"
   ]
  },
  {
   "cell_type": "code",
   "execution_count": 76,
   "id": "8abf29b4-08b3-4a78-af89-87b6a18d2b82",
   "metadata": {},
   "outputs": [
    {
     "data": {
      "text/plain": [
       "['Git repository, Jupyter notebook, and ISA files',\n",
       " 'GitHub repository',\n",
       " 'PDF',\n",
       " 'Website',\n",
       " 'Word/Pdf file',\n",
       " 'link']"
      ]
     },
     "execution_count": 76,
     "metadata": {},
     "output_type": "execute_result"
    }
   ],
   "source": [
    "# Format names\n",
    "sorted(set([i for i in content_df[\"Format\"] if isinstance(i, str)]))"
   ]
  },
  {
   "cell_type": "markdown",
   "id": "b217e21e",
   "metadata": {},
   "source": [
    "## Create output\n",
    "\n",
    "Create YAML files from data frame rows.\n",
    "\n",
    "Load MOTBX resource schema (JSON SCHEMA file)."
   ]
  },
  {
   "cell_type": "code",
   "execution_count": 77,
   "id": "fd75d6ac",
   "metadata": {},
   "outputs": [],
   "source": [
    "from motbxtools import motbxschema\n",
    "import jsonschema\n",
    "import yaml\n",
    "\n",
    "schema = motbxschema.MotbxSchema(SCHEMA_JSON)"
   ]
  },
  {
   "cell_type": "markdown",
   "id": "97c3f5e1",
   "metadata": {},
   "source": [
    "Create resources, validate them with schema, and write to YAML file."
   ]
  },
  {
   "cell_type": "code",
   "execution_count": 82,
   "id": "c6b0aac8",
   "metadata": {},
   "outputs": [
    {
     "name": "stdout",
     "output_type": "stream",
     "text": [
      "80\n",
      "80 None\n"
     ]
    }
   ],
   "source": [
    "resources_to_check = []\n",
    "yaml_count = -1\n",
    "\n",
    "for idx, row in content_df.iterrows():\n",
    "    row = row.str.strip()\n",
    "    resource_id = f\"ID{idx+1:04n}\"\n",
    "    resource = {\n",
    "        \"resourceID\": resource_id,\n",
    "        \"resourceCategory\": row[\"Category\"],\n",
    "        \"resourceSubcategory\": row[\"Sub-category\"],\n",
    "        \"resourceTitle\": row[\"Resource_title\"],\n",
    "        \"resourceDescription\": row[\"Resource_description\"],\n",
    "        \"resourceUrl\": row[\"Link_to_resource\"],#.replace(\"http://\", \"https://\"),\n",
    "        \"resourceTags\": sorted([i.strip() for i in row[\"Tags\"].split(\",\")]),\n",
    "    }\n",
    "    if resource[\"resourceUrl\"] != row[\"Link_to_resource\"]:\n",
    "        resources_to_check.append(\n",
    "            (resource_id, row[\"Resource_title\"],\n",
    "            f\"NOTE: Use https instead of http in {row['Link_to_resource']}\"))\n",
    "    # validate against JSON schema\n",
    "    try:\n",
    "        jsonschema.validate(resource, schema.schema)\n",
    "    except Exception as e:\n",
    "        # print(\"--------------------\\n\", resource_id, row[\"Resource_title\"])\n",
    "        # print(e)\n",
    "        resources_to_check.append((resource_id, row[\"Resource_title\"], str(e)))\n",
    "        continue\n",
    "    # save to file\n",
    "    yaml_path = RESOURCES_DIR.joinpath(f\"{resource_id}.yaml\")\n",
    "    with open(yaml_path, \"w\") as fp:\n",
    "        yaml.dump(resource, fp)\n",
    "        yaml_count += 1\n",
    "\n",
    "print(idx, print(yaml_count))"
   ]
  },
  {
   "cell_type": "code",
   "execution_count": 83,
   "id": "af94fa36",
   "metadata": {},
   "outputs": [],
   "source": [
    "import csv\n",
    "\n",
    "# write warnings and errors about resources to file\n",
    "out_file = MOTBX_LEGACY_ISSUES\n",
    "with open(out_file, \"w\") as fp:\n",
    "    writer = csv.writer(fp, delimiter='\\t', quotechar='\"')\n",
    "    for row in resources_to_check:\n",
    "        writer.writerow([\"-\"*80])\n",
    "        writer.writerow(row)"
   ]
  }
 ],
 "metadata": {
  "kernelspec": {
   "display_name": "Python 3.11 (motbxtools)",
   "language": "python",
   "name": "motbxtools"
  },
  "language_info": {
   "codemirror_mode": {
    "name": "ipython",
    "version": 3
   },
   "file_extension": ".py",
   "mimetype": "text/x-python",
   "name": "python",
   "nbconvert_exporter": "python",
   "pygments_lexer": "ipython3",
   "version": "3.11.4"
  }
 },
 "nbformat": 4,
 "nbformat_minor": 5
}
